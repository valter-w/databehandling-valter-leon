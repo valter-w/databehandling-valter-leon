{
 "cells": [
  {
   "cell_type": "markdown",
   "metadata": {},
   "source": [
    "## Exercises: Group and aggregate"
   ]
  },
  {
   "cell_type": "code",
   "execution_count": 1,
   "metadata": {},
   "outputs": [],
   "source": [
    "import pandas as pd\n",
    "import seaborn as sns\n",
    "titanic = sns.load_dataset(\"titanic\")"
   ]
  },
  {
   "cell_type": "markdown",
   "metadata": {},
   "source": [
    "**Use group by and aggregation on the \"titanic\" dataset to answer the following questions:**"
   ]
  },
  {
   "cell_type": "markdown",
   "metadata": {},
   "source": [
    "**Q1:** How many males and how many females were onboard titanic?\n",
    "\n",
    "<details>\n",
    "<summary>Answer</summary>\n",
    "<br>\n",
    "&nbsp;&nbsp;&nbsp;<b>males:</b> 577<br>\n",
    "&nbsp;&nbsp;&nbsp;<b>females:</b> 314<br>\n",
    "</details>"
   ]
  },
  {
   "cell_type": "code",
   "execution_count": 181,
   "metadata": {},
   "outputs": [
    {
     "name": "stdout",
     "output_type": "stream",
     "text": [
      "males: 577\n",
      "females: 314\n"
     ]
    }
   ],
   "source": [
    "sexes = titanic.groupby(\"sex\")\n",
    "\n",
    "males = sexes[\"sex\"].count().loc[\"male\"]\n",
    "print(f\"males: {males}\")\n",
    "\n",
    "females = sexes[\"sex\"].count().loc[\"female\"]\n",
    "print(f\"females: {females}\")"
   ]
  },
  {
   "cell_type": "markdown",
   "metadata": {},
   "source": [
    "or:"
   ]
  },
  {
   "cell_type": "code",
   "execution_count": 182,
   "metadata": {},
   "outputs": [
    {
     "data": {
      "text/html": [
       "<div>\n",
       "<style scoped>\n",
       "    .dataframe tbody tr th:only-of-type {\n",
       "        vertical-align: middle;\n",
       "    }\n",
       "\n",
       "    .dataframe tbody tr th {\n",
       "        vertical-align: top;\n",
       "    }\n",
       "\n",
       "    .dataframe thead th {\n",
       "        text-align: right;\n",
       "    }\n",
       "</style>\n",
       "<table border=\"1\" class=\"dataframe\">\n",
       "  <thead>\n",
       "    <tr style=\"text-align: right;\">\n",
       "      <th></th>\n",
       "      <th>passengers</th>\n",
       "    </tr>\n",
       "  </thead>\n",
       "  <tbody>\n",
       "    <tr>\n",
       "      <th>males</th>\n",
       "      <td>577</td>\n",
       "    </tr>\n",
       "    <tr>\n",
       "      <th>females</th>\n",
       "      <td>314</td>\n",
       "    </tr>\n",
       "  </tbody>\n",
       "</table>\n",
       "</div>"
      ],
      "text/plain": [
       "         passengers\n",
       "males           577\n",
       "females         314"
      ]
     },
     "execution_count": 182,
     "metadata": {},
     "output_type": "execute_result"
    }
   ],
   "source": [
    "sexes = titanic.groupby(\"sex\").agg(\n",
    "    passengers = pd.NamedAgg(column=\"who\", aggfunc=\"count\")\n",
    ")\n",
    "\n",
    "sexes.index.name = None\n",
    "sexes.rename(index={\"male\": \"males\", \"female\": \"females\"}, inplace=True)\n",
    "sexes.sort_index(ascending=False, inplace=True)\n",
    "sexes"
   ]
  },
  {
   "cell_type": "markdown",
   "metadata": {},
   "source": [
    "**Q2:** How many males and how many females survived?\n",
    "\n",
    "<details>\n",
    "<summary>Answer</summary>\n",
    "<br>\n",
    "&nbsp;&nbsp;&nbsp;<b>males:</b> 109<br>\n",
    "&nbsp;&nbsp;&nbsp;<b>females:</b> 233<br>\n",
    "</details>"
   ]
  },
  {
   "cell_type": "code",
   "execution_count": 79,
   "metadata": {},
   "outputs": [
    {
     "name": "stdout",
     "output_type": "stream",
     "text": [
      "males: 109\n",
      "females: 233\n"
     ]
    }
   ],
   "source": [
    "survivors = titanic.groupby([\"sex\", \"alive\"]).count()[\"survived\"]\n",
    "\n",
    "male_survivors = survivors.loc[(\"male\", \"yes\")]\n",
    "print(f\"males: {male_survivors}\")\n",
    "\n",
    "female_survivors = survivors.loc[(\"female\", \"yes\")]\n",
    "print(f\"females: {female_survivors}\")"
   ]
  },
  {
   "cell_type": "markdown",
   "metadata": {},
   "source": [
    "or:"
   ]
  },
  {
   "cell_type": "code",
   "execution_count": 120,
   "metadata": {},
   "outputs": [
    {
     "data": {
      "text/html": [
       "<div>\n",
       "<style scoped>\n",
       "    .dataframe tbody tr th:only-of-type {\n",
       "        vertical-align: middle;\n",
       "    }\n",
       "\n",
       "    .dataframe tbody tr th {\n",
       "        vertical-align: top;\n",
       "    }\n",
       "\n",
       "    .dataframe thead th {\n",
       "        text-align: right;\n",
       "    }\n",
       "</style>\n",
       "<table border=\"1\" class=\"dataframe\">\n",
       "  <thead>\n",
       "    <tr style=\"text-align: right;\">\n",
       "      <th></th>\n",
       "      <th>survivors</th>\n",
       "    </tr>\n",
       "  </thead>\n",
       "  <tbody>\n",
       "    <tr>\n",
       "      <th>males</th>\n",
       "      <td>109</td>\n",
       "    </tr>\n",
       "    <tr>\n",
       "      <th>females</th>\n",
       "      <td>233</td>\n",
       "    </tr>\n",
       "  </tbody>\n",
       "</table>\n",
       "</div>"
      ],
      "text/plain": [
       "         survivors\n",
       "males          109\n",
       "females        233"
      ]
     },
     "execution_count": 120,
     "metadata": {},
     "output_type": "execute_result"
    }
   ],
   "source": [
    "sexes = titanic.groupby(\"sex\").agg(\n",
    "    survivors = pd.NamedAgg(column=\"survived\", aggfunc=\"sum\")\n",
    ")\n",
    "\n",
    "sexes.index.name = None\n",
    "sexes.rename(index={\"male\": \"males\", \"female\": \"females\"}, inplace=True)\n",
    "sexes.sort_index(ascending=False, inplace=True)\n",
    "sexes"
   ]
  },
  {
   "cell_type": "markdown",
   "metadata": {},
   "source": [
    "**Q3:** How many people traveled in each class, and what was the total amount spent on tickets in each class?\n",
    "\n",
    "<details>\n",
    "<summary>Answer</summary>\n",
    "<br>\n",
    "&nbsp;&nbsp;&nbsp;<b>First:</b> 216 people (£18177)<br>\n",
    "&nbsp;&nbsp;&nbsp;<b>Second:</b> 184 people (£3802)<br>\n",
    "&nbsp;&nbsp;&nbsp;<b>Third:</b> 491 people (£6715)<br>\n",
    "</details>"
   ]
  },
  {
   "cell_type": "code",
   "execution_count": 186,
   "metadata": {},
   "outputs": [
    {
     "data": {
      "text/html": [
       "<div>\n",
       "<style scoped>\n",
       "    .dataframe tbody tr th:only-of-type {\n",
       "        vertical-align: middle;\n",
       "    }\n",
       "\n",
       "    .dataframe tbody tr th {\n",
       "        vertical-align: top;\n",
       "    }\n",
       "\n",
       "    .dataframe thead th {\n",
       "        text-align: right;\n",
       "    }\n",
       "</style>\n",
       "<table border=\"1\" class=\"dataframe\">\n",
       "  <thead>\n",
       "    <tr style=\"text-align: right;\">\n",
       "      <th></th>\n",
       "      <th>passengers</th>\n",
       "      <th>(total amount spent on tickets)</th>\n",
       "    </tr>\n",
       "  </thead>\n",
       "  <tbody>\n",
       "    <tr>\n",
       "      <th>First</th>\n",
       "      <td>216 people</td>\n",
       "      <td>(£18177)</td>\n",
       "    </tr>\n",
       "    <tr>\n",
       "      <th>Second</th>\n",
       "      <td>184 people</td>\n",
       "      <td>(£3802)</td>\n",
       "    </tr>\n",
       "    <tr>\n",
       "      <th>Third</th>\n",
       "      <td>491 people</td>\n",
       "      <td>(£6715)</td>\n",
       "    </tr>\n",
       "  </tbody>\n",
       "</table>\n",
       "</div>"
      ],
      "text/plain": [
       "        passengers (total amount spent on tickets)\n",
       "First   216 people                        (£18177)\n",
       "Second  184 people                         (£3802)\n",
       "Third   491 people                         (£6715)"
      ]
     },
     "execution_count": 186,
     "metadata": {},
     "output_type": "execute_result"
    }
   ],
   "source": [
    "classes= titanic.groupby(\"class\", observed=True).agg(\n",
    "    passengers = pd.NamedAgg(column=\"who\", aggfunc=\"count\"),\n",
    "    total_spent = pd.NamedAgg(column=\"fare\", aggfunc=\"sum\")\n",
    ")\n",
    "\n",
    "\n",
    "classes[\"passengers\"] = classes[\"passengers\"].apply(str) + \" people\"\n",
    "classes[\"total_spent\"] = \"(£\" + classes[\"total_spent\"].apply(round).apply(str) + \")\"\n",
    "\n",
    "classes.rename(columns={\"total_spent\": \"(total amount spent on tickets)\"}, inplace=True)\n",
    "\n",
    "# (optional) remove index label \"class\"\n",
    "classes.index.name = None\n",
    "\n",
    "classes"
   ]
  },
  {
   "cell_type": "markdown",
   "metadata": {},
   "source": [
    "**Q4:** Where did most people embark, and what town had the highest ratio of survivors?\n",
    "\n",
    "<details>\n",
    "<summary>Answer</summary>\n",
    "<br>\n",
    "&nbsp;&nbsp;&nbsp;Most people (644) embarked in Southampton.<br>\n",
    "&nbsp;&nbsp;&nbsp;However,Cherbourg had the highest ratio of survivors (55.4%).\n",
    "</details>"
   ]
  },
  {
   "cell_type": "code",
   "execution_count": 190,
   "metadata": {},
   "outputs": [
    {
     "name": "stdout",
     "output_type": "stream",
     "text": [
      "Most people (644) embarked in Southampton.\n",
      "However, Cherbourg had the highest ratio of survivors (55.4%).\n"
     ]
    }
   ],
   "source": [
    "towns = titanic.groupby(\"embark_town\").agg(\n",
    "    passengers = pd.NamedAgg(column=\"survived\", aggfunc=\"count\"),\n",
    "    survivors = pd.NamedAgg(column=\"survived\", aggfunc=\"sum\")\n",
    ")\n",
    "\n",
    "towns[\"survival ratio\"] = towns[\"survivors\"] / towns[\"passengers\"]\n",
    "\n",
    "town_most_passengers = towns[\"passengers\"].idxmax()\n",
    "town_most_passengers_count = towns[\"passengers\"].loc[town_most_passengers]\n",
    "print(f\"Most people ({town_most_passengers_count}) embarked in {town_most_passengers}.\")\n",
    "\n",
    "town_highest_survival = towns[\"survival ratio\"].idxmax()\n",
    "town_highest_survival_ratio = towns[\"survival ratio\"].loc[town_highest_survival]\n",
    "print(f\"However, {town_highest_survival} had the highest ratio of survivors ({town_highest_survival_ratio:.1%}).\")"
   ]
  },
  {
   "cell_type": "markdown",
   "metadata": {},
   "source": [
    "The `DataFrame` object used in the cell above:"
   ]
  },
  {
   "cell_type": "code",
   "execution_count": 191,
   "metadata": {},
   "outputs": [
    {
     "data": {
      "text/html": [
       "<div>\n",
       "<style scoped>\n",
       "    .dataframe tbody tr th:only-of-type {\n",
       "        vertical-align: middle;\n",
       "    }\n",
       "\n",
       "    .dataframe tbody tr th {\n",
       "        vertical-align: top;\n",
       "    }\n",
       "\n",
       "    .dataframe thead th {\n",
       "        text-align: right;\n",
       "    }\n",
       "</style>\n",
       "<table border=\"1\" class=\"dataframe\">\n",
       "  <thead>\n",
       "    <tr style=\"text-align: right;\">\n",
       "      <th></th>\n",
       "      <th>passengers</th>\n",
       "      <th>survival ratio</th>\n",
       "    </tr>\n",
       "    <tr>\n",
       "      <th>embark_town</th>\n",
       "      <th></th>\n",
       "      <th></th>\n",
       "    </tr>\n",
       "  </thead>\n",
       "  <tbody>\n",
       "    <tr>\n",
       "      <th>Cherbourg</th>\n",
       "      <td>168</td>\n",
       "      <td>55.4%</td>\n",
       "    </tr>\n",
       "    <tr>\n",
       "      <th>Queenstown</th>\n",
       "      <td>77</td>\n",
       "      <td>39.0%</td>\n",
       "    </tr>\n",
       "    <tr>\n",
       "      <th>Southampton</th>\n",
       "      <td>644</td>\n",
       "      <td>33.7%</td>\n",
       "    </tr>\n",
       "  </tbody>\n",
       "</table>\n",
       "</div>"
      ],
      "text/plain": [
       "             passengers survival ratio\n",
       "embark_town                           \n",
       "Cherbourg           168          55.4%\n",
       "Queenstown           77          39.0%\n",
       "Southampton         644          33.7%"
      ]
     },
     "execution_count": 191,
     "metadata": {},
     "output_type": "execute_result"
    }
   ],
   "source": [
    "def ratio_to_percentage(ratio):\n",
    "    return str(round(ratio * 100, 1)) + \"%\"\n",
    "\n",
    "towns[\"survival ratio\"] = towns[\"survival ratio\"].apply(ratio_to_percentage)\n",
    "towns.drop(columns=[\"survivors\"], inplace=True)\n",
    "\n",
    "towns"
   ]
  },
  {
   "cell_type": "markdown",
   "metadata": {},
   "source": [
    "**Q5:** How many family members did survivors travel with on average? And for non-survivors?\n",
    "\n",
    "<details>\n",
    "<summary>Answer</summary>\n",
    "<br>\n",
    "&nbsp;&nbsp;&nbsp;<b>Survivors:</b> 0.94 family members<br>\n",
    "&nbsp;&nbsp;&nbsp;<b>Non-Survivors:</b> 0.88 family members<br><br>\n",
    "&nbsp;&nbsp;&nbsp;<i>* Family members counted as: sibsp + parch</i>\n",
    "</details>"
   ]
  },
  {
   "cell_type": "code",
   "execution_count": 193,
   "metadata": {},
   "outputs": [
    {
     "data": {
      "text/html": [
       "<div>\n",
       "<style scoped>\n",
       "    .dataframe tbody tr th:only-of-type {\n",
       "        vertical-align: middle;\n",
       "    }\n",
       "\n",
       "    .dataframe tbody tr th {\n",
       "        vertical-align: top;\n",
       "    }\n",
       "\n",
       "    .dataframe thead th {\n",
       "        text-align: right;\n",
       "    }\n",
       "</style>\n",
       "<table border=\"1\" class=\"dataframe\">\n",
       "  <thead>\n",
       "    <tr style=\"text-align: right;\">\n",
       "      <th></th>\n",
       "      <th>average</th>\n",
       "    </tr>\n",
       "  </thead>\n",
       "  <tbody>\n",
       "    <tr>\n",
       "      <th>Survivors</th>\n",
       "      <td>0.94 family members</td>\n",
       "    </tr>\n",
       "    <tr>\n",
       "      <th>Non-Survivors</th>\n",
       "      <td>0.88 family members</td>\n",
       "    </tr>\n",
       "  </tbody>\n",
       "</table>\n",
       "</div>"
      ],
      "text/plain": [
       "                           average\n",
       "Survivors      0.94 family members\n",
       "Non-Survivors  0.88 family members"
      ]
     },
     "execution_count": 193,
     "metadata": {},
     "output_type": "execute_result"
    }
   ],
   "source": [
    "# columns \"sibsp\" and \"parch\" will contain averages:\n",
    "survivors = titanic.groupby(\"survived\").agg(\n",
    "    sibsp = pd.NamedAgg(column=\"sibsp\", aggfunc=\"mean\"),\n",
    "    parch = pd.NamedAgg(column=\"parch\", aggfunc=\"mean\")\n",
    ")\n",
    "\n",
    "# sum \"sibsp\" and \"parch\" as both count as family members\n",
    "survivors[\"family\"] = survivors[\"sibsp\"] + survivors[\"parch\"]\n",
    "\n",
    "survivors.sort_values(by=\"family\", ascending=False, inplace=True)\n",
    "\n",
    "n_to_family_members = lambda n: str(round(n, 2)) + \" family members\"\n",
    "survivors[\"family\"] = survivors[\"family\"].apply(n_to_family_members)\n",
    "\n",
    "survivors.rename(columns={\"family\": \"average\"}, inplace=True)\n",
    "\n",
    "# columns \"sibsp\" and \"parch\" are no longer needed\n",
    "survivors.drop(columns=[\"sibsp\", \"parch\"], inplace=True)\n",
    "\n",
    "survivors.rename(index={0: \"Non-Survivors\", 1: \"Survivors\"}, inplace=True)\n",
    "survivors.index.name = None\n",
    "\n",
    "survivors"
   ]
  },
  {
   "cell_type": "markdown",
   "metadata": {},
   "source": [
    "**Use group by and aggregation on the \"titanic\" dataset to solve the following tasks:**"
   ]
  },
  {
   "cell_type": "markdown",
   "metadata": {},
   "source": [
    "**T1:** Extract the following data from the dataset:\n",
    "<!DOCTYPE html>\n",
    "<html>\n",
    "<body>\n",
    "\n",
    "<table style=\"font-family: Arial, sans-serif; border-collapse: collapse; width: 50%; font-size: 12px;\">\n",
    "  <tr>\n",
    "    <th style=\"border: none; text-align: right; padding: 8px; background-color: #f2f2f2; color: black;\"></th>\n",
    "    <th style=\"border: none; text-align: right; padding: 8px; background-color: #f2f2f2; color: black;\">who</th>\n",
    "    <th style=\"border: none; text-align: right; padding: 8px; background-color: #f2f2f2; color: black;\">number_of_passengers</th>\n",
    "    <th style=\"border: none; text-align: right; padding: 8px; background-color: #f2f2f2; color: black;\">number_of_survivors</th>\n",
    "    <th style=\"border: none; text-align: right; padding: 8px; background-color: #f2f2f2; color: black;\">ratio_survivors</th>\n",
    "  </tr>\n",
    "  <tr>\n",
    "    <td style=\"border: none; text-align: right; padding: 8px; color: black;\">0</td>\n",
    "    <td style=\"border: none; text-align: right; padding: 8px; color: black;\">woman</td>\n",
    "    <td style=\"border: none; text-align: right; padding: 8px; color: black;\">271</td>\n",
    "    <td style=\"border: none; text-align: right; padding: 8px; color: black;\">205</td>\n",
    "    <td style=\"border: none; text-align: right; padding: 8px; color: black;\">0.756458</td>\n",
    "  </tr>\n",
    "  <tr>\n",
    "    <td style=\"border: none; text-align: right; padding: 8px; color: black;\">1</td>\n",
    "    <td style=\"border: none; text-align: right; padding: 8px; color: black;\">man</td>\n",
    "    <td style=\"border: none; text-align: right; padding: 8px; color: black;\">537</td>\n",
    "    <td style=\"border: none; text-align: right; padding: 8px; color: black;\">88</td>\n",
    "    <td style=\"border: none; text-align: right; padding: 8px; color: black;\">0.163873</td>\n",
    "  </tr>\n",
    "  <tr>\n",
    "    <td style=\"border: none; text-align: right; padding: 8px; color: black;\">2</td>\n",
    "    <td style=\"border: none; text-align: right; padding: 8px; color: black;\">child</td>\n",
    "    <td style=\"border: none; text-align: right; padding: 8px; color: black;\">83</td>\n",
    "    <td style=\"border: none; text-align: right; padding: 8px; color: black;\">49</td>\n",
    "    <td style=\"border: none; text-align: right; padding: 8px; color: black;\">0.590361</td>\n",
    "  </tr>\n",
    "</table>\n",
    "\n",
    "</body>\n",
    "</html>\n",
    "<br>\n",
    "<details>\n",
    "<summary>Solution</summary>\n",
    "<pre><code>\n",
    "titanic.groupby(\"who\").aggregate(\n",
    "    number_of_passengers=pd.NamedAgg(column=\"survived\", aggfunc=\"count\"),\n",
    "    number_of_survivors=pd.NamedAgg(column=\"survived\", aggfunc=\"sum\"),\n",
    "    ratio_survivors=pd.NamedAgg(column=\"survived\", aggfunc=\"mean\"),\n",
    ").sort_index(ascending=False).reset_index()\n",
    "</code></pre>\n",
    "</details>"
   ]
  },
  {
   "cell_type": "code",
   "execution_count": 196,
   "metadata": {},
   "outputs": [
    {
     "data": {
      "text/html": [
       "<div>\n",
       "<style scoped>\n",
       "    .dataframe tbody tr th:only-of-type {\n",
       "        vertical-align: middle;\n",
       "    }\n",
       "\n",
       "    .dataframe tbody tr th {\n",
       "        vertical-align: top;\n",
       "    }\n",
       "\n",
       "    .dataframe thead th {\n",
       "        text-align: right;\n",
       "    }\n",
       "</style>\n",
       "<table border=\"1\" class=\"dataframe\">\n",
       "  <thead>\n",
       "    <tr style=\"text-align: right;\">\n",
       "      <th></th>\n",
       "      <th>survived</th>\n",
       "      <th>pclass</th>\n",
       "      <th>sex</th>\n",
       "      <th>age</th>\n",
       "      <th>sibsp</th>\n",
       "      <th>parch</th>\n",
       "      <th>fare</th>\n",
       "      <th>embarked</th>\n",
       "      <th>class</th>\n",
       "      <th>who</th>\n",
       "      <th>adult_male</th>\n",
       "      <th>deck</th>\n",
       "      <th>embark_town</th>\n",
       "      <th>alive</th>\n",
       "      <th>alone</th>\n",
       "    </tr>\n",
       "  </thead>\n",
       "  <tbody>\n",
       "    <tr>\n",
       "      <th>0</th>\n",
       "      <td>0</td>\n",
       "      <td>3</td>\n",
       "      <td>male</td>\n",
       "      <td>22.0</td>\n",
       "      <td>1</td>\n",
       "      <td>0</td>\n",
       "      <td>7.2500</td>\n",
       "      <td>S</td>\n",
       "      <td>Third</td>\n",
       "      <td>man</td>\n",
       "      <td>True</td>\n",
       "      <td>NaN</td>\n",
       "      <td>Southampton</td>\n",
       "      <td>no</td>\n",
       "      <td>False</td>\n",
       "    </tr>\n",
       "    <tr>\n",
       "      <th>1</th>\n",
       "      <td>1</td>\n",
       "      <td>1</td>\n",
       "      <td>female</td>\n",
       "      <td>38.0</td>\n",
       "      <td>1</td>\n",
       "      <td>0</td>\n",
       "      <td>71.2833</td>\n",
       "      <td>C</td>\n",
       "      <td>First</td>\n",
       "      <td>woman</td>\n",
       "      <td>False</td>\n",
       "      <td>C</td>\n",
       "      <td>Cherbourg</td>\n",
       "      <td>yes</td>\n",
       "      <td>False</td>\n",
       "    </tr>\n",
       "    <tr>\n",
       "      <th>2</th>\n",
       "      <td>1</td>\n",
       "      <td>3</td>\n",
       "      <td>female</td>\n",
       "      <td>26.0</td>\n",
       "      <td>0</td>\n",
       "      <td>0</td>\n",
       "      <td>7.9250</td>\n",
       "      <td>S</td>\n",
       "      <td>Third</td>\n",
       "      <td>woman</td>\n",
       "      <td>False</td>\n",
       "      <td>NaN</td>\n",
       "      <td>Southampton</td>\n",
       "      <td>yes</td>\n",
       "      <td>True</td>\n",
       "    </tr>\n",
       "    <tr>\n",
       "      <th>3</th>\n",
       "      <td>1</td>\n",
       "      <td>1</td>\n",
       "      <td>female</td>\n",
       "      <td>35.0</td>\n",
       "      <td>1</td>\n",
       "      <td>0</td>\n",
       "      <td>53.1000</td>\n",
       "      <td>S</td>\n",
       "      <td>First</td>\n",
       "      <td>woman</td>\n",
       "      <td>False</td>\n",
       "      <td>C</td>\n",
       "      <td>Southampton</td>\n",
       "      <td>yes</td>\n",
       "      <td>False</td>\n",
       "    </tr>\n",
       "    <tr>\n",
       "      <th>4</th>\n",
       "      <td>0</td>\n",
       "      <td>3</td>\n",
       "      <td>male</td>\n",
       "      <td>35.0</td>\n",
       "      <td>0</td>\n",
       "      <td>0</td>\n",
       "      <td>8.0500</td>\n",
       "      <td>S</td>\n",
       "      <td>Third</td>\n",
       "      <td>man</td>\n",
       "      <td>True</td>\n",
       "      <td>NaN</td>\n",
       "      <td>Southampton</td>\n",
       "      <td>no</td>\n",
       "      <td>True</td>\n",
       "    </tr>\n",
       "  </tbody>\n",
       "</table>\n",
       "</div>"
      ],
      "text/plain": [
       "   survived  pclass     sex   age  sibsp  parch     fare embarked  class  \\\n",
       "0         0       3    male  22.0      1      0   7.2500        S  Third   \n",
       "1         1       1  female  38.0      1      0  71.2833        C  First   \n",
       "2         1       3  female  26.0      0      0   7.9250        S  Third   \n",
       "3         1       1  female  35.0      1      0  53.1000        S  First   \n",
       "4         0       3    male  35.0      0      0   8.0500        S  Third   \n",
       "\n",
       "     who  adult_male deck  embark_town alive  alone  \n",
       "0    man        True  NaN  Southampton    no  False  \n",
       "1  woman       False    C    Cherbourg   yes  False  \n",
       "2  woman       False  NaN  Southampton   yes   True  \n",
       "3  woman       False    C  Southampton   yes  False  \n",
       "4    man        True  NaN  Southampton    no   True  "
      ]
     },
     "execution_count": 196,
     "metadata": {},
     "output_type": "execute_result"
    }
   ],
   "source": [
    "titanic.head()"
   ]
  },
  {
   "cell_type": "code",
   "execution_count": 214,
   "metadata": {},
   "outputs": [
    {
     "data": {
      "text/html": [
       "<div>\n",
       "<style scoped>\n",
       "    .dataframe tbody tr th:only-of-type {\n",
       "        vertical-align: middle;\n",
       "    }\n",
       "\n",
       "    .dataframe tbody tr th {\n",
       "        vertical-align: top;\n",
       "    }\n",
       "\n",
       "    .dataframe thead th {\n",
       "        text-align: right;\n",
       "    }\n",
       "</style>\n",
       "<table border=\"1\" class=\"dataframe\">\n",
       "  <thead>\n",
       "    <tr style=\"text-align: right;\">\n",
       "      <th></th>\n",
       "      <th>who</th>\n",
       "      <th>number_of_passengers</th>\n",
       "      <th>number_of_survivors</th>\n",
       "      <th>ratio_survivors</th>\n",
       "    </tr>\n",
       "  </thead>\n",
       "  <tbody>\n",
       "    <tr>\n",
       "      <th>0</th>\n",
       "      <td>woman</td>\n",
       "      <td>271</td>\n",
       "      <td>205</td>\n",
       "      <td>0.756458</td>\n",
       "    </tr>\n",
       "    <tr>\n",
       "      <th>1</th>\n",
       "      <td>man</td>\n",
       "      <td>537</td>\n",
       "      <td>88</td>\n",
       "      <td>0.163873</td>\n",
       "    </tr>\n",
       "    <tr>\n",
       "      <th>2</th>\n",
       "      <td>child</td>\n",
       "      <td>83</td>\n",
       "      <td>49</td>\n",
       "      <td>0.590361</td>\n",
       "    </tr>\n",
       "  </tbody>\n",
       "</table>\n",
       "</div>"
      ],
      "text/plain": [
       "     who  number_of_passengers  number_of_survivors  ratio_survivors\n",
       "0  woman                   271                  205         0.756458\n",
       "1    man                   537                   88         0.163873\n",
       "2  child                    83                   49         0.590361"
      ]
     },
     "execution_count": 214,
     "metadata": {},
     "output_type": "execute_result"
    }
   ],
   "source": [
    "whos = titanic.groupby(\"who\").agg(\n",
    "    number_of_passengers = pd.NamedAgg(column=\"who\", aggfunc=\"count\"),\n",
    "    number_of_survivors = pd.NamedAgg(column=\"survived\", aggfunc=\"sum\"),\n",
    "    ratio_survivors = pd.NamedAgg(column=\"survived\", aggfunc=\"mean\")\n",
    ").sort_values(by=\"number_of_survivors\", ascending=False).reset_index()\n",
    "\n",
    "whos"
   ]
  },
  {
   "cell_type": "markdown",
   "metadata": {},
   "source": [
    "**T2:** Create a custom function *percent()* that can be used to aggregate survivor and get a percentage string:\n",
    "\n",
    "<!DOCTYPE html>\n",
    "<html>\n",
    "<body>\n",
    "\n",
    "<table style=\"font-family: Arial, sans-serif; border-collapse: collapse; width: 50%; font-size: 12px;\">\n",
    "  <tr>\n",
    "    <th style=\"border: none; text-align: right; padding: 8px; background-color: #f2f2f2; color: black;\"></th>\n",
    "    <th style=\"border: none; text-align: right; padding: 8px; background-color: #f2f2f2; color: black;\">who</th>\n",
    "    <th style=\"border: none; text-align: right; padding: 8px; background-color: #f2f2f2; color: black;\">number_of_passengers</th>\n",
    "    <th style=\"border: none; text-align: right; padding: 8px; background-color: #f2f2f2; color: black;\">number_of_survivors</th>\n",
    "    <th style=\"border: none; text-align: right; padding: 8px; background-color: #f2f2f2; color: black;\">percentage_survivors</th>\n",
    "  </tr>\n",
    "  <tr>\n",
    "    <td style=\"border: none; text-align: right; padding: 8px; color: black;\">0</td>\n",
    "    <td style=\"border: none; text-align: right; padding: 8px; color: black;\">woman</td>\n",
    "    <td style=\"border: none; text-align: right; padding: 8px; color: black;\">271</td>\n",
    "    <td style=\"border: none; text-align: right; padding: 8px; color: black;\">205</td>\n",
    "    <td style=\"border: none; text-align: right; padding: 8px; color: black;\">75.6 %</td>\n",
    "  </tr>\n",
    "  <tr>\n",
    "    <td style=\"border: none; text-align: right; padding: 8px; color: black;\">1</td>\n",
    "    <td style=\"border: none; text-align: right; padding: 8px; color: black;\">man</td>\n",
    "    <td style=\"border: none; text-align: right; padding: 8px; color: black;\">537</td>\n",
    "    <td style=\"border: none; text-align: right; padding: 8px; color: black;\">88</td>\n",
    "    <td style=\"border: none; text-align: right; padding: 8px; color: black;\">16.4 %</td>\n",
    "  </tr>\n",
    "  <tr>\n",
    "    <td style=\"border: none; text-align: right; padding: 8px; color: black;\">2</td>\n",
    "    <td style=\"border: none; text-align: right; padding: 8px; color: black;\">child</td>\n",
    "    <td style=\"border: none; text-align: right; padding: 8px; color: black;\">83</td>\n",
    "    <td style=\"border: none; text-align: right; padding: 8px; color: black;\">49</td>\n",
    "    <td style=\"border: none; text-align: right; padding: 8px; color: black;\">59.0 %</td>\n",
    "  </tr>\n",
    "</table>\n",
    "</body>\n",
    "</html>\n",
    "\n",
    "<br>\n",
    "<details>\n",
    "<summary>Solution</summary>\n",
    "<pre><code>\n",
    "import numpy as np\n",
    "def percent(col):\n",
    "    return f\"{np.mean(col) * 100:.1f} %\"\n",
    "</code></pre>\n",
    "</details>\n"
   ]
  },
  {
   "cell_type": "code",
   "execution_count": 215,
   "metadata": {},
   "outputs": [
    {
     "data": {
      "text/html": [
       "<div>\n",
       "<style scoped>\n",
       "    .dataframe tbody tr th:only-of-type {\n",
       "        vertical-align: middle;\n",
       "    }\n",
       "\n",
       "    .dataframe tbody tr th {\n",
       "        vertical-align: top;\n",
       "    }\n",
       "\n",
       "    .dataframe thead th {\n",
       "        text-align: right;\n",
       "    }\n",
       "</style>\n",
       "<table border=\"1\" class=\"dataframe\">\n",
       "  <thead>\n",
       "    <tr style=\"text-align: right;\">\n",
       "      <th></th>\n",
       "      <th>who</th>\n",
       "      <th>number_of_passengers</th>\n",
       "      <th>number_of_survivors</th>\n",
       "      <th>ratio_survivors</th>\n",
       "    </tr>\n",
       "  </thead>\n",
       "  <tbody>\n",
       "    <tr>\n",
       "      <th>0</th>\n",
       "      <td>woman</td>\n",
       "      <td>271</td>\n",
       "      <td>205</td>\n",
       "      <td>75.6%</td>\n",
       "    </tr>\n",
       "    <tr>\n",
       "      <th>1</th>\n",
       "      <td>man</td>\n",
       "      <td>537</td>\n",
       "      <td>88</td>\n",
       "      <td>16.4%</td>\n",
       "    </tr>\n",
       "    <tr>\n",
       "      <th>2</th>\n",
       "      <td>child</td>\n",
       "      <td>83</td>\n",
       "      <td>49</td>\n",
       "      <td>59.0%</td>\n",
       "    </tr>\n",
       "  </tbody>\n",
       "</table>\n",
       "</div>"
      ],
      "text/plain": [
       "     who  number_of_passengers  number_of_survivors ratio_survivors\n",
       "0  woman                   271                  205           75.6%\n",
       "1    man                   537                   88           16.4%\n",
       "2  child                    83                   49           59.0%"
      ]
     },
     "execution_count": 215,
     "metadata": {},
     "output_type": "execute_result"
    }
   ],
   "source": [
    "percent = lambda n: f\"{n:.1%}\"\n",
    "\n",
    "whos = titanic.groupby(\"who\").agg(\n",
    "    number_of_passengers = pd.NamedAgg(column=\"who\", aggfunc=\"count\"),\n",
    "    number_of_survivors = pd.NamedAgg(column=\"survived\", aggfunc=\"sum\"),\n",
    "    ratio_survivors = pd.NamedAgg(column=\"survived\", aggfunc=\"mean\")\n",
    ").sort_values(by=\"number_of_survivors\", ascending=False).reset_index()\n",
    "\n",
    "whos[\"ratio_survivors\"] = whos[\"ratio_survivors\"].apply(percent)\n",
    "\n",
    "whos"
   ]
  }
 ],
 "metadata": {
  "kernelspec": {
   "display_name": "Learning_Python-3NYKqp0N",
   "language": "python",
   "name": "python3"
  },
  "language_info": {
   "codemirror_mode": {
    "name": "ipython",
    "version": 3
   },
   "file_extension": ".py",
   "mimetype": "text/x-python",
   "name": "python",
   "nbconvert_exporter": "python",
   "pygments_lexer": "ipython3",
   "version": "3.11.4"
  }
 },
 "nbformat": 4,
 "nbformat_minor": 2
}
