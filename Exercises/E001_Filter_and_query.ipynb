{
 "cells": [
  {
   "cell_type": "markdown",
   "metadata": {},
   "source": [
    "## Exercises: Filter and query data"
   ]
  },
  {
   "cell_type": "code",
   "execution_count": 1,
   "metadata": {},
   "outputs": [],
   "source": [
    "import pandas as pd\n",
    "autos = pd.read_json(\"../Data/autos.json\")"
   ]
  },
  {
   "cell_type": "markdown",
   "metadata": {},
   "source": [
    "**Use the \"autos\" dataset to answer the following questions:**"
   ]
  },
  {
   "cell_type": "markdown",
   "metadata": {},
   "source": [
    "**Q1:** How many cars from Jaguar are in the dataset, and what is the price of the most expensive one?\n",
    "\n",
    "<details>\n",
    "<summary>Answer</summary>\n",
    "<br>\n",
    "&nbsp;&nbsp;&nbsp;count=3\n",
    "&nbsp;&nbsp;&nbsp;price=36000.0\n",
    "</details>"
   ]
  },
  {
   "cell_type": "markdown",
   "metadata": {},
   "source": [
    "**My solution:**"
   ]
  },
  {
   "cell_type": "code",
   "execution_count": 17,
   "metadata": {},
   "outputs": [
    {
     "name": "stdout",
     "output_type": "stream",
     "text": [
      "There are 3 Jaguars in the dataset.\n",
      "The most expensive one costs $36000.0\n"
     ]
    }
   ],
   "source": [
    "# We'll use a query for this one\n",
    "jaguars = autos.query(\"make == 'jaguar'\")\n",
    "print(f\"There are {len(jaguars)} Jaguars in the dataset.\")\n",
    "\n",
    "highest_price = jaguars[\"price\"].max()\n",
    "print(f\"The most expensive one costs ${highest_price}\")"
   ]
  },
  {
   "cell_type": "markdown",
   "metadata": {},
   "source": [
    "**Q2:** How many cars from Toyota are in the dataset, and what is the price of the most expensive one?\n",
    "\n",
    "<details>\n",
    "<summary>Answer</summary>\n",
    "<br>\n",
    "&nbsp;&nbsp;&nbsp;count=32\n",
    "&nbsp;&nbsp;&nbsp;price=17669.0\n",
    "</details>"
   ]
  },
  {
   "cell_type": "markdown",
   "metadata": {},
   "source": [
    "**My solution:**"
   ]
  },
  {
   "cell_type": "code",
   "execution_count": 16,
   "metadata": {},
   "outputs": [
    {
     "name": "stdout",
     "output_type": "stream",
     "text": [
      "There are 32 cars from Toyota in the dataset.\n",
      "The most expensive Toyota costs $17669.0\n"
     ]
    }
   ],
   "source": [
    "# This time we will use a mask\n",
    "toyotas = autos[autos[\"make\"] == \"toyota\"]\n",
    "print(f\"There are {len(toyotas)} cars from Toyota in the dataset.\")\n",
    "\n",
    "highest_price = toyotas[\"price\"].max()\n",
    "print(f\"The most expensive Toyota costs ${highest_price}\")"
   ]
  },
  {
   "cell_type": "markdown",
   "metadata": {},
   "source": [
    "**Q3:** What is the length, width and height of the most expensive car in the entire dataset?\n",
    "\n",
    "<details>\n",
    "<summary>Answer</summary>\n",
    "<br>&nbsp;&nbsp;&nbsp;length=199.2\n",
    "&nbsp;&nbsp;&nbsp;width=72.0\n",
    "&nbsp;&nbsp;&nbsp;height=55.4\n",
    "</details>"
   ]
  },
  {
   "cell_type": "markdown",
   "metadata": {},
   "source": [
    "**My solution:**"
   ]
  },
  {
   "cell_type": "code",
   "execution_count": 27,
   "metadata": {},
   "outputs": [
    {
     "name": "stdout",
     "output_type": "stream",
     "text": [
      "The most expensive car has the following measurements:\n",
      "length: 199.2 inch\n",
      "width: 72.0 inch\n",
      "height: 55.4 inch\n"
     ]
    }
   ],
   "source": [
    "top_price_car = autos.sort_values(by=\"price\", ascending=False).iloc[0]\n",
    "features = [\"length\", \"width\", \"height\"]\n",
    "print(\"The most expensive car has the following measurements:\")\n",
    "for feature in features:\n",
    "    print(f\"{feature}: {top_price_car[feature]} inch\")"
   ]
  },
  {
   "cell_type": "markdown",
   "metadata": {},
   "source": [
    "**Q4:** What is the lowest price per horsepower in the dataset, and what brand (\"make\") is that car?\n",
    "\n",
    "<details>\n",
    "<summary>Answer</summary>\n",
    "<br>\n",
    "&nbsp;&nbsp;&nbsp;price per horsepower=72.84\n",
    "&nbsp;&nbsp;&nbsp;brand=Toyota\n",
    "</details>"
   ]
  },
  {
   "cell_type": "markdown",
   "metadata": {},
   "source": [
    "**My solution:**"
   ]
  },
  {
   "cell_type": "code",
   "execution_count": 40,
   "metadata": {},
   "outputs": [
    {
     "name": "stdout",
     "output_type": "stream",
     "text": [
      "The car that has the lowest price per horsepower is a Toyota with a price of $72.84 per horsepower.\n"
     ]
    }
   ],
   "source": [
    "# add a new column \"horsepower_price\"\n",
    "autos[\"horsepower_price\"] = autos[\"price\"] / autos[\"horsepower\"]\n",
    "\n",
    "best_value_car = autos.sort_values(by=\"horsepower_price\", ascending=True).iloc[0]\n",
    "brand = best_value_car['make'].title()\n",
    "price_per_hp = best_value_car[\"horsepower_price\"]\n",
    "print(\n",
    "    f\"The car that has the lowest price per horsepower is a {brand} \"\n",
    "    f\"with a price of ${price_per_hp:.2f} per horsepower.\"\n",
    ")"
   ]
  },
  {
   "cell_type": "markdown",
   "metadata": {},
   "source": [
    "**Q5:** How many of the cars in the dataset has as many cylinders as they have doors?\n",
    "\n",
    "<details>\n",
    "<summary>Answer</summary>\n",
    "<br>\n",
    "&nbsp;&nbsp;&nbsp;cars=95\n",
    "</details>"
   ]
  },
  {
   "cell_type": "markdown",
   "metadata": {},
   "source": [
    "**My solution:**"
   ]
  },
  {
   "cell_type": "code",
   "execution_count": 43,
   "metadata": {},
   "outputs": [
    {
     "name": "stdout",
     "output_type": "stream",
     "text": [
      "95 of the cars have an equal number of cylinders and doors.\n"
     ]
    }
   ],
   "source": [
    "matching_cars= autos.query(\"`num-of-cylinders` == `num-of-doors`\")\n",
    "\n",
    "print(f\"{len(matching_cars)} of the cars have an equal number of cylinders and doors.\")"
   ]
  },
  {
   "cell_type": "markdown",
   "metadata": {},
   "source": [
    "**Use the \"autos\" dataset and write python code to solve the following tasks:**"
   ]
  },
  {
   "cell_type": "markdown",
   "metadata": {},
   "source": [
    "**T1:** Print a string to inform the user of the price difference between the cheapest and the most expensive car in the dataset.\n",
    "\n",
    "<details>\n",
    "<summary>Solution</summary>\n",
    "<br>\n",
    "&nbsp;&nbsp;&nbsp;<b>Example:</b><br>\n",
    "&nbsp;&nbsp;&nbsp;The price difference between the cheapest and the most expensive car is 40282.0\n",
    "</details>"
   ]
  },
  {
   "cell_type": "markdown",
   "metadata": {},
   "source": [
    "**My solution:**"
   ]
  },
  {
   "cell_type": "code",
   "execution_count": 46,
   "metadata": {},
   "outputs": [
    {
     "name": "stdout",
     "output_type": "stream",
     "text": [
      "The price difference between the most expensive car ($45400.0) and the cheapest car ($5118.0) is $40282.0.\n"
     ]
    }
   ],
   "source": [
    "max_price = autos[\"price\"].max()\n",
    "min_price = autos[\"price\"].min()\n",
    "price_diff = max_price - min_price\n",
    "\n",
    "print(\n",
    "    f\"The price difference between the most expensive car (${max_price}) \"\n",
    "    f\"and the cheapest car (${min_price}) is ${price_diff}.\"\n",
    ")"
   ]
  },
  {
   "cell_type": "markdown",
   "metadata": {},
   "source": [
    "**T2:** Ask the user to input a brand, then print the price range for that brand.\n",
    "\n",
    "<details>\n",
    "<summary>Solution</summary>\n",
    "<br>\n",
    "&nbsp;&nbsp;&nbsp;<b>Example 1:</b><br>\n",
    "&nbsp;&nbsp;&nbsp;Input the name of a brand: volvo<br>\n",
    "&nbsp;&nbsp;&nbsp;The prices for cars of brand 'volvo' ranges from 12940.0 to 22625.0<br>\n",
    "<br>\n",
    "&nbsp;&nbsp;&nbsp;<b>Example 2:</b><br>\n",
    "&nbsp;&nbsp;&nbsp;Input the name of a brand: toyota<br>\n",
    "&nbsp;&nbsp;&nbsp;The prices for cars of brand 'toyota' ranges from 5348.0 to 17669.0<br>\n",
    "<br>\n",
    "&nbsp;&nbsp;&nbsp;<b>Example 3:</b><br>\n",
    "&nbsp;&nbsp;&nbsp;Input the name of a brand: tesla<br>\n",
    "&nbsp;&nbsp;&nbsp;The brand 'tesla' does not exists in the dataset.<br>\n",
    "</details>"
   ]
  },
  {
   "cell_type": "markdown",
   "metadata": {},
   "source": [
    "**My solution:**"
   ]
  },
  {
   "cell_type": "code",
   "execution_count": 54,
   "metadata": {},
   "outputs": [
    {
     "name": "stdout",
     "output_type": "stream",
     "text": [
      "The prices of cars of brand 'mercedes-benz' ranges from 25552.0 to 45400.0.\n"
     ]
    }
   ],
   "source": [
    "while True:\n",
    "    brand = input(\"Enter the name of a brand: \").strip()\n",
    "    if not brand:\n",
    "        print(\"Invalid input. Try again.\")\n",
    "    else:\n",
    "        break\n",
    "\n",
    "# Turn \"Mercedes Benz\" to \"mercedes-benz\" and so on\n",
    "brand = brand.lower()\n",
    "brand = brand.replace(\" \", \"-\")\n",
    "\n",
    "brand_cars = autos[autos[\"make\"] == brand]\n",
    "if brand_cars.size < 1:\n",
    "    print(f\"The brand '{brand}' does not exist in the dataset.\")\n",
    "else:\n",
    "    min_price = brand_cars[\"price\"].min()\n",
    "    max_price = brand_cars[\"price\"].max()\n",
    "    print(\n",
    "        f\"The prices of cars of brand '{brand}' ranges from \"\n",
    "        f\"{min_price} to {max_price}.\"\n",
    "    )"
   ]
  },
  {
   "cell_type": "markdown",
   "metadata": {},
   "source": [
    "**T3:** Ask the user to input a brand, then print the number of cars in the dataset for that brand, and all attributes for a random sample car of that brand.\n",
    "<details>\n",
    "<summary>Solution</summary>\n",
    "<br>\n",
    "&nbsp;&nbsp;&nbsp;<b>Example:</b><br>\n",
    "&nbsp;&nbsp;&nbsp;Input the name of a brand: mazda<br>\n",
    "&nbsp;&nbsp;&nbsp;There are 17 cars of brand 'mazda' in the dataset.<br><br>\n",
    "&nbsp;&nbsp;&nbsp;Here is the data for a random 'mazda' car:<br>\n",
    "&nbsp;&nbsp;&nbsp;aspiration = std<br>\n",
    "&nbsp;&nbsp;&nbsp;body-style = sedan<br>\n",
    "&nbsp;&nbsp;&nbsp;bore = 3.03<br>\n",
    "&nbsp;&nbsp;&nbsp;city-mpg = 31<br>\n",
    "&nbsp;&nbsp;&nbsp;compression-ratio = 9.0<br>\n",
    "&nbsp;&nbsp;&nbsp;curb-weight = 1945<br>\n",
    "&nbsp;&nbsp;&nbsp;drive-wheels = fwd<br>\n",
    "&nbsp;&nbsp;&nbsp;engine-location = front<br>\n",
    "&nbsp;&nbsp;&nbsp;engine-size = 91<br>\n",
    "&nbsp;&nbsp;&nbsp;engine-type = ohc<br>\n",
    "&nbsp;&nbsp;&nbsp;fuel-system = 2bbl<br>\n",
    "&nbsp;&nbsp;&nbsp;fuel-type = gas<br>\n",
    "&nbsp;&nbsp;&nbsp;height = 54.1<br>\n",
    "&nbsp;&nbsp;&nbsp;highway-mpg = 38<br>\n",
    "&nbsp;&nbsp;&nbsp;horsepower = 68.0<br>\n",
    "&nbsp;&nbsp;&nbsp;length = 166.8<br>\n",
    "&nbsp;&nbsp;&nbsp;make = mazda<br>\n",
    "&nbsp;&nbsp;&nbsp;normalized-losses = 113.0<br>\n",
    "&nbsp;&nbsp;&nbsp;num-of-cylinders = four<br>\n",
    "&nbsp;&nbsp;&nbsp;num-of-doors = four<br>\n",
    "&nbsp;&nbsp;&nbsp;peak-rpm = 5000.0<br>\n",
    "&nbsp;&nbsp;&nbsp;price = 6695.0<br>\n",
    "&nbsp;&nbsp;&nbsp;stroke = 3.15<br>\n",
    "&nbsp;&nbsp;&nbsp;symboling = 1<br>\n",
    "&nbsp;&nbsp;&nbsp;wheel-base = 93.1<br>\n",
    "&nbsp;&nbsp;&nbsp;width = 64.2<br>\n",
    "</details>"
   ]
  },
  {
   "cell_type": "markdown",
   "metadata": {},
   "source": [
    "**My solution:**"
   ]
  },
  {
   "cell_type": "code",
   "execution_count": 66,
   "metadata": {},
   "outputs": [
    {
     "name": "stdout",
     "output_type": "stream",
     "text": [
      "There are 11 of the brand 'volvo' in the dataset.\n",
      "Here is the data of a random 'volvo' car:\n",
      "aspiration: turbo\n",
      "body-style: sedan\n",
      "bore: 3.62\n",
      "city-mpg: 17\n",
      "compression-ratio: 7.5\n",
      "curb-weight: 3045\n",
      "drive-wheels: rwd\n",
      "engine-location: front\n",
      "engine-size: 130\n",
      "engine-type: ohc\n",
      "fuel-system: mpfi\n",
      "fuel-type: gas\n",
      "height: 56.2\n",
      "highway-mpg: 22\n",
      "horsepower: 162.0\n",
      "length: 188.8\n",
      "make: volvo\n",
      "normalized-losses: 103.0\n",
      "num-of-cylinders: four\n",
      "num-of-doors: four\n",
      "peak-rpm: 5100.0\n",
      "price: 18420.0\n",
      "stroke: 3.15\n",
      "symboling: -2\n",
      "wheel-base: 104.3\n",
      "width: 67.2\n",
      "horsepower_price: 113.70370370370371\n"
     ]
    }
   ],
   "source": [
    "while True:\n",
    "    brand = input(\"Enter the name of a brand: \").strip()\n",
    "    if not brand:\n",
    "        print(\"Invalid input. Try again.\")\n",
    "    else:\n",
    "        break\n",
    "\n",
    "# Turn \"Mercedes Benz\" to \"mercedes-benz\" and so on\n",
    "brand = brand.lower()\n",
    "brand = brand.replace(\" \", \"-\")\n",
    "\n",
    "brand_cars = autos[autos[\"make\"] == brand]\n",
    "if brand_cars.size < 1:\n",
    "    print(f\"The brand '{brand}' does not exist in the dataset.\")\n",
    "else:\n",
    "    print(f\"There are {len(brand_cars)} of the brand '{brand}' in the dataset.\")\n",
    "    print(f\"Here is the data of a random '{brand}' car:\")\n",
    "    # beware that .sample returns a DataFrame, not a Series\n",
    "    sample_car = brand_cars.sample().iloc[0]\n",
    "    for column in autos.columns:\n",
    "        print(f\"{column}: {sample_car[column]}\")"
   ]
  },
  {
   "cell_type": "markdown",
   "metadata": {},
   "source": [
    "**T4:** Ask the user to input a brand, then export all cars of that brand to a .csv file with the same name as the brand.\n",
    "\n",
    "<details>\n",
    "<summary>Solution</summary>\n",
    "<br>\n",
    "&nbsp;&nbsp;&nbsp;<b>Example 1:</b><br>\n",
    "&nbsp;&nbsp;&nbsp;Input the name of a brand: volkswagen<br>\n",
    "&nbsp;&nbsp;&nbsp;Exported 12 cars to 'volkswagen.csv'<br>\n",
    "<br>\n",
    "&nbsp;&nbsp;&nbsp;<b>Example 2:</b><br>\n",
    "&nbsp;&nbsp;&nbsp;Input the name of a brand: tesla<br>\n",
    "&nbsp;&nbsp;&nbsp;The brand 'tesla' does not exists in the dataset.<br>\n",
    "</details>"
   ]
  },
  {
   "cell_type": "markdown",
   "metadata": {},
   "source": [
    "**My solution:**"
   ]
  },
  {
   "cell_type": "code",
   "execution_count": 71,
   "metadata": {},
   "outputs": [
    {
     "name": "stdout",
     "output_type": "stream",
     "text": [
      "Exported 12 cars to 'volkswagen.csv'\n"
     ]
    }
   ],
   "source": [
    "while True:\n",
    "    brand = input(\"Enter the name of a brand: \").strip()\n",
    "    if not brand:\n",
    "        print(\"Invalid input. Try again.\")\n",
    "    else:\n",
    "        break\n",
    "\n",
    "# Turn \"Mercedes Benz\" to \"mercedes-benz\" and so on\n",
    "brand = brand.lower()\n",
    "brand = brand.replace(\" \", \"-\")\n",
    "\n",
    "brand_cars = autos[autos[\"make\"] == brand]\n",
    "\n",
    "if len(brand_cars) < 1:\n",
    "    print(f\"The brand '{brand}' does not exist in the dataset.\")\n",
    "else:\n",
    "    file_name = f\"{brand}.csv\"\n",
    "    path = f\"../Data/{file_name}\"\n",
    "    brand_cars.to_csv(path)\n",
    "    print(f\"Exported {len(brand_cars)} cars to '{file_name}'\")"
   ]
  }
 ],
 "metadata": {
  "kernelspec": {
   "display_name": "Databehandling-AI23-toKGAHu0",
   "language": "python",
   "name": "python3"
  },
  "language_info": {
   "codemirror_mode": {
    "name": "ipython",
    "version": 3
   },
   "file_extension": ".py",
   "mimetype": "text/x-python",
   "name": "python",
   "nbconvert_exporter": "python",
   "pygments_lexer": "ipython3",
   "version": "3.11.4"
  }
 },
 "nbformat": 4,
 "nbformat_minor": 2
}
