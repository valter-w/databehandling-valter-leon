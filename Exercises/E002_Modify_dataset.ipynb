{
 "cells": [
  {
   "cell_type": "markdown",
   "metadata": {},
   "source": [
    "## Exercises: Modify the dataset"
   ]
  },
  {
   "cell_type": "code",
   "execution_count": 168,
   "metadata": {},
   "outputs": [],
   "source": [
    "import pandas as pd\n",
    "employees = pd.read_json(\"../Data/employees.json\")"
   ]
  },
  {
   "cell_type": "markdown",
   "metadata": {},
   "source": [
    "**Current state of the \"employees\" dataset**\n",
    "\n",
    "Rerun the code block below after each modification you do, to see its current state."
   ]
  },
  {
   "cell_type": "code",
   "execution_count": 184,
   "metadata": {},
   "outputs": [
    {
     "data": {
      "text/html": [
       "<div>\n",
       "<style scoped>\n",
       "    .dataframe tbody tr th:only-of-type {\n",
       "        vertical-align: middle;\n",
       "    }\n",
       "\n",
       "    .dataframe tbody tr th {\n",
       "        vertical-align: top;\n",
       "    }\n",
       "\n",
       "    .dataframe thead th {\n",
       "        text-align: right;\n",
       "    }\n",
       "</style>\n",
       "<table border=\"1\" class=\"dataframe\">\n",
       "  <thead>\n",
       "    <tr style=\"text-align: right;\">\n",
       "      <th></th>\n",
       "      <th>Name</th>\n",
       "      <th>Email</th>\n",
       "      <th>Job title</th>\n",
       "      <th>Salary</th>\n",
       "      <th>Department</th>\n",
       "    </tr>\n",
       "  </thead>\n",
       "  <tbody>\n",
       "    <tr>\n",
       "      <th>0</th>\n",
       "      <td>John Doe</td>\n",
       "      <td>john.doe@mockcompany.com</td>\n",
       "      <td>Sales Director</td>\n",
       "      <td>132000.0</td>\n",
       "      <td>Sales</td>\n",
       "    </tr>\n",
       "    <tr>\n",
       "      <th>1</th>\n",
       "      <td>Jane Smith</td>\n",
       "      <td>jane.smith@mockcompany.com</td>\n",
       "      <td>HR Coordinator</td>\n",
       "      <td>60000.0</td>\n",
       "      <td>Human Resources</td>\n",
       "    </tr>\n",
       "    <tr>\n",
       "      <th>2</th>\n",
       "      <td>Michael Johnson</td>\n",
       "      <td>michael.johnson@mockcompany.com</td>\n",
       "      <td>Software Engineer</td>\n",
       "      <td>110000.0</td>\n",
       "      <td>IT</td>\n",
       "    </tr>\n",
       "    <tr>\n",
       "      <th>3</th>\n",
       "      <td>Sarah Williams</td>\n",
       "      <td>sarah.williams@mockcompany.com</td>\n",
       "      <td>Marketing Specialist</td>\n",
       "      <td>82500.0</td>\n",
       "      <td>Sales</td>\n",
       "    </tr>\n",
       "    <tr>\n",
       "      <th>4</th>\n",
       "      <td>David Brown</td>\n",
       "      <td>david.brown@mockcompany.com</td>\n",
       "      <td>HR Manager</td>\n",
       "      <td>90000.0</td>\n",
       "      <td>Human Resources</td>\n",
       "    </tr>\n",
       "    <tr>\n",
       "      <th>5</th>\n",
       "      <td>Emily Davis</td>\n",
       "      <td>emily.davis@mockcompany.com</td>\n",
       "      <td>IT Support Specialist</td>\n",
       "      <td>55000.0</td>\n",
       "      <td>IT</td>\n",
       "    </tr>\n",
       "    <tr>\n",
       "      <th>6</th>\n",
       "      <td>Jacob Wilson</td>\n",
       "      <td>jacob.wilson@mockcompany.com</td>\n",
       "      <td>Sales Representative</td>\n",
       "      <td>88000.0</td>\n",
       "      <td>Sales</td>\n",
       "    </tr>\n",
       "    <tr>\n",
       "      <th>8</th>\n",
       "      <td>Ethan Lee</td>\n",
       "      <td>ethan.lee@mockcompany.com</td>\n",
       "      <td>Financial Analyst</td>\n",
       "      <td>93500.0</td>\n",
       "      <td>Sales</td>\n",
       "    </tr>\n",
       "    <tr>\n",
       "      <th>9</th>\n",
       "      <td>Sophia Taylor</td>\n",
       "      <td>sophia.taylor@mockcompany.com</td>\n",
       "      <td>HR Assistant</td>\n",
       "      <td>50000.0</td>\n",
       "      <td>Human Resources</td>\n",
       "    </tr>\n",
       "    <tr>\n",
       "      <th>10</th>\n",
       "      <td>Jennifer Lee</td>\n",
       "      <td>jennifer.lee@mockcompany.com</td>\n",
       "      <td>Software Engineer</td>\n",
       "      <td>100000.0</td>\n",
       "      <td>IT</td>\n",
       "    </tr>\n",
       "    <tr>\n",
       "      <th>11</th>\n",
       "      <td>Daniel Brown</td>\n",
       "      <td>daniel.brown@mockcompany.com</td>\n",
       "      <td>Software Engineer</td>\n",
       "      <td>95000.0</td>\n",
       "      <td>IT</td>\n",
       "    </tr>\n",
       "    <tr>\n",
       "      <th>12</th>\n",
       "      <td>John Doe</td>\n",
       "      <td>john.doe@mockcompany.com</td>\n",
       "      <td>Software Engineer</td>\n",
       "      <td>105000.0</td>\n",
       "      <td>IT</td>\n",
       "    </tr>\n",
       "  </tbody>\n",
       "</table>\n",
       "</div>"
      ],
      "text/plain": [
       "               Name                            Email              Job title  \\\n",
       "0          John Doe         john.doe@mockcompany.com         Sales Director   \n",
       "1        Jane Smith       jane.smith@mockcompany.com         HR Coordinator   \n",
       "2   Michael Johnson  michael.johnson@mockcompany.com      Software Engineer   \n",
       "3    Sarah Williams   sarah.williams@mockcompany.com   Marketing Specialist   \n",
       "4       David Brown      david.brown@mockcompany.com             HR Manager   \n",
       "5       Emily Davis      emily.davis@mockcompany.com  IT Support Specialist   \n",
       "6      Jacob Wilson     jacob.wilson@mockcompany.com   Sales Representative   \n",
       "8         Ethan Lee        ethan.lee@mockcompany.com      Financial Analyst   \n",
       "9     Sophia Taylor    sophia.taylor@mockcompany.com           HR Assistant   \n",
       "10     Jennifer Lee     jennifer.lee@mockcompany.com      Software Engineer   \n",
       "11     Daniel Brown     daniel.brown@mockcompany.com      Software Engineer   \n",
       "12         John Doe         john.doe@mockcompany.com      Software Engineer   \n",
       "\n",
       "      Salary       Department  \n",
       "0   132000.0            Sales  \n",
       "1    60000.0  Human Resources  \n",
       "2   110000.0               IT  \n",
       "3    82500.0            Sales  \n",
       "4    90000.0  Human Resources  \n",
       "5    55000.0               IT  \n",
       "6    88000.0            Sales  \n",
       "8    93500.0            Sales  \n",
       "9    50000.0  Human Resources  \n",
       "10  100000.0               IT  \n",
       "11   95000.0               IT  \n",
       "12  105000.0               IT  "
      ]
     },
     "execution_count": 184,
     "metadata": {},
     "output_type": "execute_result"
    }
   ],
   "source": [
    "employees"
   ]
  },
  {
   "cell_type": "markdown",
   "metadata": {},
   "source": [
    "**Do the following operations on the \"employees\" dataset:**"
   ]
  },
  {
   "cell_type": "markdown",
   "metadata": {},
   "source": [
    "**OP1:** Create a new column \"name\" which contains the full name (eg. \"John Doe\") for each employee.\n",
    "\n",
    "<details>\n",
    "<summary>Result</summary>\n",
    "<br>\n",
    "&nbsp;&nbsp;&nbsp;<b>name</b><br>\n",
    "&nbsp;&nbsp;&nbsp;John Doe<br>\n",
    "&nbsp;&nbsp;&nbsp;Jane Smith<br>\n",
    "&nbsp;&nbsp;&nbsp;Michael Johnson<br>\n",
    "&nbsp;&nbsp;&nbsp;...<br>\n",
    "</details>"
   ]
  },
  {
   "cell_type": "code",
   "execution_count": 171,
   "metadata": {},
   "outputs": [],
   "source": [
    "employees[\"name\"] = employees[\"first_name\"] + \" \" + employees[\"last_name\"]"
   ]
  },
  {
   "cell_type": "markdown",
   "metadata": {},
   "source": [
    "<div style=\"display: inline\">\n",
    "<b>OP2:</b> Create a new column \"email\" with the following format: firstname.lastname@mockcompany.com\n",
    "</div><br>\n",
    "\n",
    "*Note: email addresses should be all lower case.*\n",
    "\n",
    "<details>\n",
    "<summary>Result</summary>\n",
    "<br>\n",
    "&nbsp;&nbsp;&nbsp;<b>email</b><br>\n",
    "&nbsp;&nbsp;&nbsp;john.doe@mockcompany.com<br>\n",
    "&nbsp;&nbsp;&nbsp;jane.smith@mockcompany.com<br>\n",
    "&nbsp;&nbsp;&nbsp;michael.johnson@mockcompany.com<br>\n",
    "&nbsp;&nbsp;&nbsp;...<br>\n",
    "</details>"
   ]
  },
  {
   "cell_type": "code",
   "execution_count": 172,
   "metadata": {},
   "outputs": [],
   "source": [
    "employees[\"email\"] = (employees[\"first_name\"].apply(str.lower) + \n",
    "                      \".\" + \n",
    "                      employees[\"last_name\"].apply(str.lower) +\n",
    "                      \"@mockcompany.com\")"
   ]
  },
  {
   "cell_type": "markdown",
   "metadata": {},
   "source": [
    "**OP3:** Remove the columns \"first_name\" and \"last_name\", and put the columns \"name\" and \"email\" first.\n",
    "<details>\n",
    "<summary>Result</summary>\n",
    "<br>\n",
    "&nbsp;&nbsp;&nbsp;<b>name&nbsp;&nbsp;&nbsp;email&nbsp;&nbsp;&nbsp;job_title&nbsp;&nbsp;&nbsp;salary&nbsp;&nbsp;&nbsp;department</b>\n",
    "</details>"
   ]
  },
  {
   "cell_type": "code",
   "execution_count": 173,
   "metadata": {},
   "outputs": [],
   "source": [
    "# employees.drop(columns=[\"first_name\", \"last_name\"], inplace=True)\n",
    "employees = employees[[\"name\", \"email\", \"job_title\", \"salary\", \"department\"]]"
   ]
  },
  {
   "cell_type": "markdown",
   "metadata": {},
   "source": [
    "**OP4:** Update column titles to make the first letter in each title upper case. Also replace the underscore character in \"job_title\" with a space.\n",
    "<details>\n",
    "<summary>Result</summary>\n",
    "<br>\n",
    "&nbsp;&nbsp;&nbsp;<b>Name&nbsp;&nbsp;&nbsp;Email&nbsp;&nbsp;&nbsp;Job title&nbsp;&nbsp;&nbsp;Salary&nbsp;&nbsp;&nbsp;Department</b>\n",
    "</details>"
   ]
  },
  {
   "cell_type": "code",
   "execution_count": 174,
   "metadata": {},
   "outputs": [],
   "source": [
    "old_columns = list(employees.columns)\n",
    "new_columns = dict()\n",
    "for old_column in old_columns:\n",
    "    new_columns[old_column] = old_column.capitalize().replace(\"_\", \" \")\n",
    "\n",
    "employees = employees.rename(columns=new_columns)"
   ]
  },
  {
   "cell_type": "markdown",
   "metadata": {},
   "source": [
    "**OP5:** Change the data type of column \"Salary\" to float64.\n",
    "<details>\n",
    "<summary>Result</summary>\n",
    "<br>\n",
    "&nbsp;&nbsp;&nbsp;Salary: int64 => float64\n",
    "</details>"
   ]
  },
  {
   "cell_type": "code",
   "execution_count": 175,
   "metadata": {},
   "outputs": [
    {
     "name": "stdout",
     "output_type": "stream",
     "text": [
      "<class 'pandas.core.frame.DataFrame'>\n",
      "RangeIndex: 10 entries, 0 to 9\n",
      "Data columns (total 5 columns):\n",
      " #   Column      Non-Null Count  Dtype  \n",
      "---  ------      --------------  -----  \n",
      " 0   Name        10 non-null     object \n",
      " 1   Email       10 non-null     object \n",
      " 2   Job title   10 non-null     object \n",
      " 3   Salary      10 non-null     float64\n",
      " 4   Department  10 non-null     object \n",
      "dtypes: float64(1), object(4)\n",
      "memory usage: 532.0+ bytes\n"
     ]
    }
   ],
   "source": [
    "employees = employees.astype({\"Salary\": \"float64\"})\n",
    "employees.info()"
   ]
  },
  {
   "cell_type": "markdown",
   "metadata": {},
   "source": [
    "**OP6:** The company decided to give everyone in sales a 10% salary increase. Update the dataset accordingly.\n",
    "\n",
    "<details>\n",
    "<summary>Result</summary>\n",
    "<br>\n",
    "&nbsp;&nbsp;&nbsp;John Doe&nbsp;&nbsp;&nbsp;132000.0<br>\n",
    "&nbsp;&nbsp;&nbsp;Jane Smith&nbsp;&nbsp;&nbsp;60000.0<br>\n",
    "&nbsp;&nbsp;&nbsp;Michael Johnson&nbsp;&nbsp;&nbsp;110000.0\t<br>\n",
    "&nbsp;&nbsp;&nbsp;Sarah Williams&nbsp;&nbsp;&nbsp;82500.0<br>\n",
    "&nbsp;&nbsp;&nbsp;...<br>\n",
    "</details>"
   ]
  },
  {
   "cell_type": "code",
   "execution_count": 176,
   "metadata": {},
   "outputs": [],
   "source": [
    "sales_staff = employees[employees[\"Department\"] == \"Sales\"]\n",
    "employees.loc[sales_staff.index, \"Salary\"] *= 1.1"
   ]
  },
  {
   "cell_type": "markdown",
   "metadata": {},
   "source": [
    "**OP7:** The company hired a new software engineer. Add a new row with appropriate values to the dataset.\n",
    "<details>\n",
    "<summary>Result</summary>\n",
    "<br>\n",
    "<b>Example:</b><br>\n",
    "&nbsp;&nbsp;&nbsp;<b>Name:</b> Jennifer Lee<br>\n",
    "&nbsp;&nbsp;&nbsp;<b>Email:</b> jennifer.lee@mockcompany.com<br>\n",
    "&nbsp;&nbsp;&nbsp;<b>Job title:</b> Software Engineer<br>\n",
    "&nbsp;&nbsp;&nbsp;<b>Salary:</b> 100.000<br>\n",
    "&nbsp;&nbsp;&nbsp;<b>Department:</b> IT<br>\n",
    "</details>"
   ]
  },
  {
   "cell_type": "code",
   "execution_count": 177,
   "metadata": {},
   "outputs": [
    {
     "data": {
      "text/plain": [
       "Index(['Name', 'Email', 'Job title', 'Salary', 'Department'], dtype='object')"
      ]
     },
     "execution_count": 177,
     "metadata": {},
     "output_type": "execute_result"
    }
   ],
   "source": [
    "employees.columns"
   ]
  },
  {
   "cell_type": "code",
   "execution_count": 178,
   "metadata": {},
   "outputs": [],
   "source": [
    "new_employee = {\n",
    "    \"Name\": \"Jennifer Lee\",\n",
    "    \"Email\": \"jennifer.lee@mockcompany.com\",\n",
    "    \"Job title\": \"Software Engineer\",\n",
    "    \"Salary\": 100_000.0,\n",
    "    \"Department\": \"IT\"\n",
    "}\n",
    "\n",
    "employees.loc[len(employees)] = new_employee"
   ]
  },
  {
   "cell_type": "markdown",
   "metadata": {},
   "source": [
    "**OP8:** The company decided to hire a lot of new software engineers.\n",
    "\n",
    "Create python code that asks the user to input the name and salary of the new software engineer, and then automatically adds the new employee to the dataset. Also, ensure that each employee get a unique index in the dataset.\n",
    "\n",
    "<details>\n",
    "<summary>Result</summary>\n",
    "<br>\n",
    "<b>Example:</b><br>\n",
    "&nbsp;&nbsp;&nbsp;Input name of new software engineer: Daniel Brown<br>\n",
    "&nbsp;&nbsp;&nbsp;Input the salary for Daniel Brown: 95.000<br>\n",
    "<br>\n",
    "&nbsp;&nbsp;&nbsp;<b>Name:</b> Daniel Brown<br>\n",
    "&nbsp;&nbsp;&nbsp;<b>Email:</b> daniel.brown@mockcompany.com<br>\n",
    "&nbsp;&nbsp;&nbsp;<b>Job title:</b> Software Engineer<br>\n",
    "&nbsp;&nbsp;&nbsp;<b>Salary:</b> 95.000<br>\n",
    "&nbsp;&nbsp;&nbsp;<b>Department:</b> IT<br>\n",
    "</details>"
   ]
  },
  {
   "cell_type": "code",
   "execution_count": 183,
   "metadata": {},
   "outputs": [],
   "source": [
    "import re\n",
    "\n",
    "while True:\n",
    "    name = input(\"Input name of new software engineer: \")\n",
    "    name = name.strip().title()\n",
    "    if not name:\n",
    "        print(\"Invalid input. Try again.\")\n",
    "    else:\n",
    "        break\n",
    "\n",
    "name = re.sub(r\"\\s+\", \" \", name)\n",
    "email = name.lower().replace(\" \", \".\") + \"@mockcompany.com\"\n",
    "\n",
    "while True:\n",
    "    try:\n",
    "        salary = float(input(f\"Input the salary for {name}: \"))\n",
    "        break\n",
    "    except:\n",
    "        print(\"Invalid input. Try again.\")\n",
    "\n",
    "new_engineer= {\n",
    "    \"Name\": name,\n",
    "    \"Email\": email,\n",
    "    \"Job title\": \"Software Engineer\",\n",
    "    \"Salary\": salary,\n",
    "    \"Department\": \"IT\"\n",
    "}\n",
    "\n",
    "# employees.loc[len(employees)] = new_engineer\n",
    "next_index = max(employees.index) + 1\n",
    "employees.loc[next_index] = new_engineer"
   ]
  },
  {
   "cell_type": "markdown",
   "metadata": {},
   "source": [
    "**OP9:** Olivia Moore quits her job. Remove her data from the dataset."
   ]
  },
  {
   "cell_type": "code",
   "execution_count": 180,
   "metadata": {},
   "outputs": [],
   "source": [
    "olivia = employees.query(\"Name == 'Olivia Moore'\")\n",
    "\n",
    "employees.drop(index = olivia.index, inplace=True)"
   ]
  },
  {
   "cell_type": "markdown",
   "metadata": {},
   "source": [
    "**OP10**: Make sure that the python script in *OP8* still gives a unique index to each new employee, even after removing rows."
   ]
  },
  {
   "cell_type": "code",
   "execution_count": 181,
   "metadata": {},
   "outputs": [],
   "source": [
    "# next_index = max(employees.index) + 1\n",
    "# employees.loc[next_index] = new_engineer"
   ]
  },
  {
   "cell_type": "markdown",
   "metadata": {},
   "source": [
    "### Final note:\n",
    "Just to be clear, a real company would most likely store their employee data in a database, and loading them into a pandas dataframe to do these kind of operations wouldn't make much sense. The above examples are purely for learning the different operations of pandas."
   ]
  }
 ],
 "metadata": {
  "kernelspec": {
   "display_name": "Databehandling-AI23-toKGAHu0",
   "language": "python",
   "name": "python3"
  },
  "language_info": {
   "codemirror_mode": {
    "name": "ipython",
    "version": 3
   },
   "file_extension": ".py",
   "mimetype": "text/x-python",
   "name": "python",
   "nbconvert_exporter": "python",
   "pygments_lexer": "ipython3",
   "version": "3.11.4"
  }
 },
 "nbformat": 4,
 "nbformat_minor": 2
}
